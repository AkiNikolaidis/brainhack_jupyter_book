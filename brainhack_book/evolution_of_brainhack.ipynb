{
 "cells": [
  {
   "cell_type": "markdown",
   "metadata": {},
   "source": [
    "# Brainhack cartography\n",
    "### Evolution of Brainhack through space and time."
   ]
  },
  {
   "cell_type": "code",
   "execution_count": 6,
   "metadata": {},
   "outputs": [
    {
     "output_type": "display_data",
     "data": {
      "text/plain": "<IPython.core.display.HTML object>",
      "text/html": "<div id=\"observablehq-chart-99cde20f\"></div>\n<p>Credit: <a href=\"https://observablehq.com/@katjaq/zoomable-sunburst\">Zoomable Sunburst by katja heuer & anibal solon</a></p>\n\n<script type=\"module\">\nimport {Runtime, Inspector} from \"https://cdn.jsdelivr.net/npm/@observablehq/runtime@4/dist/runtime.js\";\nimport define from \"https://api.observablehq.com/@katjaq/zoomable-sunburst.js?v=3\";\nnew Runtime().module(define, name => {\n  if (name === \"chart\") return new Inspector(document.querySelector(\"#observablehq-chart-99cde20f\"));\n});\n</script>\n"
     },
     "metadata": {}
    }
   ],
   "source": [
    "%%html\n",
    "<div id=\"observablehq-chart-99cde20f\"></div>\n",
    "<p>Credit: <a href=\"https://observablehq.com/@katjaq/zoomable-sunburst\">Zoomable Sunburst by katja heuer & anibal solon</a></p>\n",
    "\n",
    "<script type=\"module\">\n",
    "import {Runtime, Inspector} from \"https://cdn.jsdelivr.net/npm/@observablehq/runtime@4/dist/runtime.js\";\n",
    "import define from \"https://api.observablehq.com/@katjaq/zoomable-sunburst.js?v=3\";\n",
    "new Runtime().module(define, name => {\n",
    "  if (name === \"chart\") return new Inspector(document.querySelector(\"#observablehq-chart-99cde20f\"));\n",
    "});\n",
    "</script>"
   ]
  },
  {
   "cell_type": "code",
   "execution_count": null,
   "metadata": {},
   "outputs": [],
   "source": []
  }
 ],
 "metadata": {
  "celltoolbar": "Tags",
  "kernelspec": {
   "display_name": "Python 3",
   "language": "python",
   "name": "python3"
  },
  "language_info": {
   "codemirror_mode": {
    "name": "ipython",
    "version": 3
   },
   "file_extension": ".py",
   "mimetype": "text/x-python",
   "name": "python",
   "nbconvert_exporter": "python",
   "pygments_lexer": "ipython3",
   "version": "3.8.5-final"
  }
 },
 "nbformat": 4,
 "nbformat_minor": 4
}